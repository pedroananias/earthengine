{
 "cells": [
  {
   "cell_type": "markdown",
   "metadata": {},
   "source": [
    "# Gravando dados em um arquivo de log com a biblioteca 'logging'\n",
    "\n",
    "Neste notebook, trazemos uma ferramenta de 'debugging' importante. Você perceberá a necessidade ao longo do desenvolvimento de um algoritmo em gerar registros e estados das variáveis. Desta forma, você conseguirá, por exemplo, encontrar o local onde o seu código pode estar falhando.\n",
    "\n",
    "Primeiramente, é necessário importar a biblioteca 'logging'"
   ]
  },
  {
   "cell_type": "code",
   "execution_count": 1,
   "metadata": {},
   "outputs": [],
   "source": [
    "import logging"
   ]
  },
  {
   "cell_type": "markdown",
   "metadata": {},
   "source": [
    "Definimos então o arquivo que receberá nossos registros. Notem que aqui foi utilizado um arquivo que será salvo na raiz do notebook. Entretanto, também é possível direcioná-lo para outra pasta:"
   ]
  },
  {
   "cell_type": "code",
   "execution_count": 2,
   "metadata": {},
   "outputs": [],
   "source": [
    "logging.basicConfig(filename='registro.log',level=logging.DEBUG)"
   ]
  },
  {
   "cell_type": "markdown",
   "metadata": {},
   "source": [
    "Adicionamos então nossa primeira informação:"
   ]
  },
  {
   "cell_type": "code",
   "execution_count": 3,
   "metadata": {},
   "outputs": [],
   "source": [
    "logging.debug(\"Hello, world!\")"
   ]
  },
  {
   "cell_type": "markdown",
   "metadata": {},
   "source": [
    "### Verifiquem o arquivo 'registro.log' na raiz deste notebook."
   ]
  }
 ],
 "metadata": {
  "kernelspec": {
   "display_name": "Python 3",
   "language": "python",
   "name": "python3"
  },
  "language_info": {
   "codemirror_mode": {
    "name": "ipython",
    "version": 3
   },
   "file_extension": ".py",
   "mimetype": "text/x-python",
   "name": "python",
   "nbconvert_exporter": "python",
   "pygments_lexer": "ipython3",
   "version": "3.7.6"
  }
 },
 "nbformat": 4,
 "nbformat_minor": 4
}
