{
 "cells": [
  {
   "cell_type": "markdown",
   "metadata": {},
   "source": [
    "# Coleções, geometrias e filtros: extraindo uma imagem dos datasets do GEE em uma determinada data e local\n",
    "\n",
    "Apresentamos aqui a primeira consulta efetiva utilizando a plataforma do Google Earth Engine API. Lembrando que, antes de se realizar qualquer operação com o GEE, devemos iniciar a conexão, conforme o primeiro notebook. Entretanto, essa operação será feita apenas uma vez (até a validade do token).\n",
    "\n",
    "Neste notebook, iremos consultar o GEE por uma coleção, em uma determinada área de estudo e aplicar um filtro datas.\n",
    "\n",
    "Primeiramente, vamos importar a biblioteca e inicializá-la:"
   ]
  },
  {
   "cell_type": "code",
   "execution_count": 1,
   "metadata": {},
   "outputs": [],
   "source": [
    "import ee # importação\n",
    "ee.Initialize() # inicialização"
   ]
  },
  {
   "cell_type": "markdown",
   "metadata": {},
   "source": [
    "Agora, vamos definir a geometria (baseada na Latitude e Longitude) da nossa área de estudo. Neste caso, faremos uma consulta ao Reservatório Hidrelétrico de Barra Bonita, localizado no interior do Estado de São Paulo (https://earth.google.com/web/@-22.57959722,-48.38199298,475.1139016a,35077.08122335d,35y,18.39831754h,34.08243439t,0r/data=Ck8aTRJHCiUweDk0Yzc0ZjdkZjg4YzFkMzc6MHg0Mzk3M2ViYmMyZTQ0Y2Y3GUg0gSIWeTbAIVy91BkpSEjAKgxCYXJyYSBCb25pdGEYASAB):"
   ]
  },
  {
   "cell_type": "code",
   "execution_count": 2,
   "metadata": {},
   "outputs": [],
   "source": [
    "# Notem que foi criada uma coordenada (Latitude e Longitude) através de uma string, posteriormente repartida pelas virgulas\n",
    "# Essa abordagem é importante para quando utilizarmos a linha da comando\n",
    "coordenadas = \"-48.52353991121163,-22.522557296253044,-48.298663507403035,-22.625905269537693\"\n",
    "\n",
    "# Aqui, usamos uma ferramenta do Python chamada de unpacking\n",
    "x1,y1,x2,y2 = coordenadas.split(\",\")\n",
    "\n",
    "# Criamos a geometria com base nas coordenadas 'quebradas' acima\n",
    "geometria = geometry = ee.Geometry.Polygon(\n",
    "        [[[float(x1),float(y2)],\n",
    "          [float(x2),float(y2)],\n",
    "          [float(x2),float(y1)],\n",
    "          [float(x1),float(y1)],\n",
    "          [float(x1),float(y2)]]])\n",
    "\n",
    "# Podemos, também, extrair as coordenadas centrais da área de estudo\n",
    "latitude_central = (float(x1)+float(x2))/2\n",
    "longitude_central = (float(y1)+float(y2))/2"
   ]
  },
  {
   "cell_type": "markdown",
   "metadata": {},
   "source": [
    "Da mesma forma que fizemos para as coordenadas, criaremos uma string contendo duas datas (inicial e final), de onde filtraremos a coleção do GEE:"
   ]
  },
  {
   "cell_type": "code",
   "execution_count": 3,
   "metadata": {},
   "outputs": [],
   "source": [
    "# string de datas (poderia vir, por exemplo, da linha de comando como um argumento)\n",
    "datas = \"2014-10-13,2014-10-14\"\n",
    "\n",
    "# Divisão das duas datas pela vírgula, novamente usando a técnica de unpacking\n",
    "inicio,fim = datas.split(\",\")"
   ]
  },
  {
   "cell_type": "markdown",
   "metadata": {},
   "source": [
    "Neste momento, estamos prontos para consultar uma coleção do GEE. Os datasets disponíveis, assim como os sensores, podem ser consultados diretamente do site do Google Eearth Engine API (https://developers.google.com/earth-engine/datasets). Neste caso, utilizaremos o sensor Landsat-8/OLI (Dataset chamado de: LANDSAT/LC08/C01/T1_SR):"
   ]
  },
  {
   "cell_type": "code",
   "execution_count": 4,
   "metadata": {},
   "outputs": [
    {
     "name": "stdout",
     "output_type": "stream",
     "text": [
      "Total de imagens encontradas: 1\n"
     ]
    }
   ],
   "source": [
    "# Consultando a coleção com base na área de estudo e datas selecioandas\n",
    "# Notem que utilizamos o filtro 'CLOUD_COVER'. Vários datasets possuem esses 'metadados' que podem ser utilizados para, neste caso, pegar as imagens com menos nuvem possível\n",
    "colecao = ee.ImageCollection('LANDSAT/LC08/C01/T1_SR').filterBounds(geometria).filterDate(inicio,fim).filterMetadata('CLOUD_COVER','less_than', 30)\n",
    "\n",
    "# Mostrar o total de imagens encontradas\n",
    "print(\"Total de imagens encontradas: \"+str(colecao.size().getInfo()))"
   ]
  },
  {
   "cell_type": "markdown",
   "metadata": {},
   "source": [
    "Maiores informações sobre os metadados deste sensor Landsat-8/OLI: \n",
    "\n",
    "- https://developers.google.com/earth-engine/datasets/catalog/LANDSAT_LC08_C01_T1_SR.\n",
    "\n",
    "Uma informação importante é que muitos datasets possuem versões com correção atmosférica já aplicadal. Verfiquem antes de escolher! \n",
    "\n",
    "Outra dica importante é que a plataforma GEE possuí um ambiente desenvolvido em Javascript onde todos os códigos podem ser previamente testados. A sintaxe da linguagem é moderamente parecida com o Python, o que irá facilitar tradução do scripts:\n",
    "\n",
    "- https://code.earthengine.google.com/"
   ]
  },
  {
   "cell_type": "code",
   "execution_count": 14,
   "metadata": {},
   "outputs": [
    {
     "name": "stdout",
     "output_type": "stream",
     "text": [
      "['B1', 'B2', 'B3', 'B4', 'B5', 'B6', 'B7', 'B10', 'B11', 'sr_aerosol', 'pixel_qa', 'radsat_qa']\n"
     ]
    }
   ],
   "source": [
    "colecao = ee.ImageCollection('LANDSAT/LC08/C01/T1_SR').filterBounds(geometria)\n",
    "imagem = colecao.median()\n",
    "print(imagem.bandNames().getInfo())"
   ]
  },
  {
   "cell_type": "code",
   "execution_count": 12,
   "metadata": {},
   "outputs": [
    {
     "name": "stdout",
     "output_type": "stream",
     "text": [
      "['B1', 'B2', 'B3', 'B4', 'B5', 'B6', 'B7', 'B8', 'B8A', 'B9', 'B11', 'B12', 'AOT', 'WVP', 'SCL', 'TCI_R', 'TCI_G', 'TCI_B', 'MSK_CLDPRB', 'MSK_SNWPRB', 'QA10', 'QA20', 'QA60']\n"
     ]
    }
   ],
   "source": [
    "colecao = ee.ImageCollection('COPERNICUS/S2_SR').filterBounds(geometria)\n",
    "imagem = colecao.median()\n",
    "print(imagem.bandNames().getInfo())"
   ]
  },
  {
   "cell_type": "code",
   "execution_count": 13,
   "metadata": {},
   "outputs": [
    {
     "name": "stdout",
     "output_type": "stream",
     "text": [
      "['num_observations_1km', 'state_1km', 'SensorZenith', 'SensorAzimuth', 'Range', 'SolarZenith', 'SolarAzimuth', 'gflags', 'orbit_pnt', 'granule_pnt', 'num_observations_500m', 'sur_refl_b01', 'sur_refl_b02', 'sur_refl_b03', 'sur_refl_b04', 'sur_refl_b05', 'sur_refl_b06', 'sur_refl_b07', 'QC_500m', 'obscov_500m', 'iobs_res', 'q_scan']\n"
     ]
    }
   ],
   "source": [
    "colecao = ee.ImageCollection('MODIS/006/MOD09GA').filterBounds(geometria)\n",
    "imagem = colecao.median()\n",
    "print(imagem.bandNames().getInfo())"
   ]
  },
  {
   "cell_type": "code",
   "execution_count": 36,
   "metadata": {},
   "outputs": [
    {
     "name": "stdout",
     "output_type": "stream",
     "text": [
      "2020-10-01 00:00:00\n",
      "2020-10-08 00:00:00\n"
     ]
    }
   ],
   "source": [
    "from datetime import datetime as dt\n",
    "from datetime import timedelta\n",
    "\n",
    "# User input\n",
    "a = dt.strptime(\"2020-10-01\", \"%Y-%m-%d\")\n",
    "b = dt.strptime(\"2020-10-08\", \"%Y-%m-%d\")\n",
    "print(a)\n",
    "print(b)"
   ]
  },
  {
   "cell_type": "code",
   "execution_count": 37,
   "metadata": {},
   "outputs": [
    {
     "name": "stdout",
     "output_type": "stream",
     "text": [
      "2019-04-02 16:27:06.018595\n",
      "2020-04-01 16:27:06.018595\n"
     ]
    }
   ],
   "source": [
    "# Time series\n",
    "b_ = dt.now() if a > dt.now() else a\n",
    "a_ = b_ - timedelta(days=365)\n",
    "print(a_)\n",
    "print(b_)"
   ]
  },
  {
   "cell_type": "code",
   "execution_count": null,
   "metadata": {},
   "outputs": [],
   "source": []
  }
 ],
 "metadata": {
  "kernelspec": {
   "display_name": "Python 3",
   "language": "python",
   "name": "python3"
  },
  "language_info": {
   "codemirror_mode": {
    "name": "ipython",
    "version": 3
   },
   "file_extension": ".py",
   "mimetype": "text/x-python",
   "name": "python",
   "nbconvert_exporter": "python",
   "pygments_lexer": "ipython3",
   "version": "3.7.6"
  }
 },
 "nbformat": 4,
 "nbformat_minor": 4
}
