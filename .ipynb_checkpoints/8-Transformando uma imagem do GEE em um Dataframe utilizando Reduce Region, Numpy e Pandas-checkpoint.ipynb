{
 "cells": [
  {
   "cell_type": "markdown",
   "metadata": {},
   "source": [
    "# Transformando uma imagem do GEE em um Dataframe utilizando Reduce Region, Numpy e Pandas\n",
    "\n",
    "Neste notebook, utilizando o exemplo de extração de máscaras, iremos transformar uma imagem em um DataFrame (estrutura de dados do Pandas) utilizando a função do GEE chamada de Reduce Region com auxílio das bibliotecas Numpy e Pandas\n",
    "\n",
    "Primeiramente, vamos importar as bibliotecas e inicializar o GEE:"
   ]
  },
  {
   "cell_type": "code",
   "execution_count": 4,
   "metadata": {},
   "outputs": [],
   "source": [
    "# importação da bibliotecas\n",
    "import ee\n",
    "import pandas as pd\n",
    "import numpy as np\n",
    "\n",
    "# inicialização do GEE\n",
    "ee.Initialize() "
   ]
  },
  {
   "cell_type": "markdown",
   "metadata": {},
   "source": [
    "Funções principais utilizadas por esse notebook (comentadas no notebook anterior):"
   ]
  },
  {
   "cell_type": "code",
   "execution_count": 5,
   "metadata": {},
   "outputs": [],
   "source": [
    "# Função para aplicar à imagem vinda da coleção a máscara de água\n",
    "def mascara_agua(imagem):\n",
    "    qa = imagem.select('pixel_qa')\n",
    "    return qa.bitwiseAnd(1 << 2).eq(0)\n",
    "\n",
    "# Função para aplicar à imagem vinda da coléção a máscara de nuvem/sombra de nuvem\n",
    "def mascara_nuvem(imagem):\n",
    "    qa = imagem.select('pixel_qa')\n",
    "    return qa.bitwiseAnd(1 << 3).eq(0) and (qa.bitwiseAnd(1 << 5).eq(0)) and (qa.bitwiseAnd(1 << 6).eq(0)) and (qa.bitwiseAnd(1 << 7).eq(0))\n",
    "\n",
    "# função para aplicar as máscaras\n",
    "def aplicar_mascaras(imagem):\n",
    "    \n",
    "    # criar uma imagem em branco/vazio para evitar problemas no fundo ao gerar um PNG\n",
    "    # usamos valores dummies (neste caso, branco)\n",
    "    vazio = ee.Image(99999)\n",
    "    \n",
    "    # máscara de água\n",
    "    agua = vazio.updateMask(mascara_agua(imagem).Not()).rename('agua')\n",
    "    \n",
    "    # máscara de nuvem (criará uma imagem com apenas nuvens)\n",
    "    # caso a imagem não tenha nuvens, ela ficará toda branca\n",
    "    nuvem = vazio.updateMask(mascara_nuvem(imagem).Not()).rename('nuvem')\n",
    "    \n",
    "    # podemos ainda, ao contrário da linha anterior, REMOVER as nuvens\n",
    "    # notem que retiramos a função .Not (negação)\n",
    "    sem_nuvem = vazio.updateMask(mascara_nuvem(imagem)).rename('sem_nuvem')\n",
    "    \n",
    "    # aplicar o indice NDVI\n",
    "    ndvi = imagem.expression('(nir - red) / (nir + red)',{'nir':imagem.select('B5'),'red':imagem.select('B4')}).rename('ndvi')\n",
    "    \n",
    "    # assim como fizemos para o NDVI, retornamos uma imagem com as novas bandas\n",
    "    return imagem.addBands([ndvi,agua,nuvem,sem_nuvem])\n",
    "\n",
    "# função para aplicar uma máscara em uma banda específica\n",
    "# A mascará a ser aplicada \n",
    "def aplicar_mascara_banda(imagem, banda_mascara, banda_origem, band_destino):\n",
    "    \n",
    "    # Primeiramente, temos que aplicar a máscara desejada na banda de origem, que será nomeada para a banda de destino\n",
    "    # Podemos, inclusive, sobscrever a banda de origem, sem problemas\n",
    "    imagem_mascara = imagem.select(banda_origem).updateMask(imagem.select(banda_mascara)).rename(band_destino)\n",
    "    \n",
    "    # Depois, temos que criar uma imagem em branco que receberá a máscara, renomeando também para banda de destino\n",
    "    imagem_mascara = ee.Image(99999).blend(imagem_mascara).rename(band_destino)\n",
    "    \n",
    "    # Retornar a imagem com a nova banda nomeada com a string da banda_destino\n",
    "    return imagem.addBands([imagem_mascara])"
   ]
  },
  {
   "cell_type": "markdown",
   "metadata": {},
   "source": [
    "Agora, vamos definir a geometria e as datas (baseada na Latitude e Longitude) da nossa área de estudo e consultá-la no GEE (mesmo do notebook anterior):"
   ]
  },
  {
   "cell_type": "code",
   "execution_count": 6,
   "metadata": {},
   "outputs": [],
   "source": [
    "# Notem que foi criada uma coordenada (Latitude e Longitude) através de uma string, posteriormente repartida pelas virgulas\n",
    "# Essa abordagem é importante para quando utilizarmos a linha da comando\n",
    "coordenadas = \"-48.53801472648439,-22.503806214013736,-48.270222978437516,-22.7281869567509\"\n",
    "\n",
    "# Aqui, usamos uma ferramenta do Python chamada de unpacking\n",
    "x1,y1,x2,y2 = coordenadas.split(\",\")\n",
    "\n",
    "# Criamos a geometria com base nas coordenadas 'quebradas' acima\n",
    "geometria = geometry = ee.Geometry.Polygon(\n",
    "        [[[float(x1),float(y2)],\n",
    "          [float(x2),float(y2)],\n",
    "          [float(x2),float(y1)],\n",
    "          [float(x1),float(y1)],\n",
    "          [float(x1),float(y2)]]])\n",
    "\n",
    "# String de datas\n",
    "datas = \"2014-10-13,2014-10-14\"\n",
    "\n",
    "# Divisão das duas datas pela vírgula, novamente usando a técnica de unpacking\n",
    "inicio,fim = datas.split(\",\")\n",
    "\n",
    "# Consultando a coleção com base na área de estudo e datas selecionadas\n",
    "colecao = ee.ImageCollection('LANDSAT/LC08/C01/T1_SR').filterBounds(geometria).filterDate(inicio,fim).filterMetadata('CLOUD_COVER','less_than', 30)\n",
    "\n",
    "# aplicar a função 'aplicar_mascaras' em todas as imagens (irá adicionar as bandas 'agua', 'nuvem', 'sem_nuvem' nas imagens):\n",
    "colecao = colecao.map(aplicar_mascaras)\n",
    "\n",
    "# extraindo a imagem mediana da coleção\n",
    "imagem = colecao.median()"
   ]
  },
  {
   "cell_type": "markdown",
   "metadata": {},
   "source": [
    "Agora, vamos aplicar as máscaras individualmente na banda NDVI:"
   ]
  },
  {
   "cell_type": "code",
   "execution_count": 7,
   "metadata": {},
   "outputs": [],
   "source": [
    "# Aplicamos as três máscaras individualmente na banda NDVI\n",
    "# A função irá adicionar as já mencionadas bandas de origem a medida que for sendo executada, linha a linha\n",
    "imagem = aplicar_mascara_banda(imagem, 'agua', 'ndvi', 'ndvi_agua')\n",
    "imagem = aplicar_mascara_banda(imagem, 'nuvem', 'ndvi', 'ndvi_nuvem')\n",
    "imagem = aplicar_mascara_banda(imagem, 'sem_nuvem', 'ndvi', 'ndvi_sem_nuvem')\n",
    "imagem = aplicar_mascara_banda(imagem, 'agua', 'ndvi_sem_nuvem', 'ndvi_agua_sem_nuvem')\n",
    "\n",
    "# Depois, cortamos a imagem\n",
    "# scale = escala do sensor. No caso do Landsat-8/OLI são 30 metros\n",
    "imagem_corte = imagem.clipToBoundsAndScale(geometry=geometria,scale=30)"
   ]
  },
  {
   "cell_type": "markdown",
   "metadata": {},
   "source": [
    "Introduzimos aqui uma nova função, responsável por extrair as informações de coordenadas e pixeis de uma ou mais bandas, de acordo com o seu parâmetro 'bandas':"
   ]
  },
  {
   "cell_type": "code",
   "execution_count": 10,
   "metadata": {},
   "outputs": [],
   "source": [
    "# Extrair as coordenadas e valores dos pixels de uma imagem\n",
    "def extrair_latitude_longitude_pixel(imagem, geometria, bandas):\n",
    "  \n",
    "    # Inicialmente, devemos extrair as coordenadas por pixel da imagem\n",
    "    # O GEE faz essa operação adicoinando uma banda com essas novas informações,\n",
    "    # que extrairemos abaixo\n",
    "    imagem = imagem.addBands(ee.Image.pixelLonLat())\n",
    "    \n",
    "    # Extraindo efetivament as coordenadas nas bandas recém criadas (latitude e longitude)\n",
    "    # Nesta parte, é utilizado o que citamos como reducer (verifiar na documentação do GEE), mas ele permite que sejam feitas operações com uma imagem como: reduzi-la, modificar sua escala, etc.\n",
    "    # ainda, os atributos utilizados são: geometry (geometria, mesma utilizada em outros exemplos), scale (escala do sensor, 30 metros no caso do Landsat), bestEffort (garante que a imagem terá a melhor escala possível, caso a definida seja muito grande para processamento)\n",
    "    coordenadas = imagem.select(['longitude', 'latitude']+bandas).reduceRegion(reducer=ee.Reducer.toList(),geometry=geometria,scale=30,bestEffort=True)\n",
    "    \n",
    "    # ponteiro para incluir os valores dos pixeis de cada banda, já criando uma Numpy Array\n",
    "    # o FOR abaixo irá percorrer cada banda que foi definida no parâmetro da função para extrair seus valores, um a um\n",
    "    # As funções ee.List e getInfo() permitem transformar os pixeis em lista e depois extraí-los, respectivamente\n",
    "    bandas_valores = []\n",
    "    for banda in bandas:\n",
    "        \n",
    "        # adiciona pixel por pixel, em cada uma das bandas desejadas\n",
    "        # transforma o valor do pixel em float para evitar erros de processamento futuros\n",
    "        bandas_valores.append(np.array(ee.List(coordenadas.get(banda)).getInfo()).astype(float))\n",
    "    \n",
    "    \n",
    "    # Retorna no forma de Numpy Array os dados separados pelas colunas [0,1,2..N BANDAS] sendo LATITUDE, LONGITUDE e VALOR DO PIXEL (POR BANDA...N BANDAS)\n",
    "    return np.array(ee.List(coordenadas.get('latitude')).getInfo()).astype(float), np.array(ee.List(coordenadas.get('longitude')).getInfo()).astype(float), bandas_valores"
   ]
  },
  {
   "cell_type": "markdown",
   "metadata": {},
   "source": [
    "Com a função acima criada, vamos utilizá-la abaixo:"
   ]
  },
  {
   "cell_type": "code",
   "execution_count": 24,
   "metadata": {},
   "outputs": [
    {
     "name": "stdout",
     "output_type": "stream",
     "text": [
      "827008\n",
      "827008\n",
      "827008\n"
     ]
    }
   ],
   "source": [
    "# Com a imagem, iremos extrair as coordenadas e o indice NDVI desejados, já com a máscara de água aplicada\n",
    "# Usamos aqui novamente a técnica de unpacking (atentar para ordem: long,lat,indices)\n",
    "longitudes, latitudes, indices = extrair_latitude_longitude_pixel(imagem_corte, geometria, ['ndvi_agua_sem_nuvem'])\n",
    "\n",
    "# Mostra o número de pixeis das arrays extraídas da imagem\n",
    "print(len(latitudes))\n",
    "print(len(longitudes))\n",
    "print(len(indices[0])) # neste caso 0 porque iremos trabalhar com apenas um indice (NDVI), mas a função aceita também array de bandas"
   ]
  },
  {
   "cell_type": "markdown",
   "metadata": {},
   "source": [
    "Finalizamos este notebook apresentando a criação de um DataFrame Pandas com os dados extraídos da imagem. Embora seja possível trabalhar tranquilamente com o Numpy nos dados desses arrays, o Pandas oferece suporte à gráficos integrados do Matplotlib, modelos de consulta de dados, agrupamento e outras ferramentas que facilitam a vida do cientista."
   ]
  },
  {
   "cell_type": "code",
   "execution_count": 26,
   "metadata": {},
   "outputs": [
    {
     "name": "stdout",
     "output_type": "stream",
     "text": [
      "    latitude  longitude     ndvi\n",
      "0 -48.537996 -22.727961  99999.0\n",
      "1 -48.537727 -22.727961  99999.0\n",
      "2 -48.537457 -22.727961  99999.0\n",
      "3 -48.537188 -22.727961  99999.0\n",
      "4 -48.536918 -22.727961  99999.0\n"
     ]
    }
   ],
   "source": [
    "# Criando o Dataframe com as colunas desejadas\n",
    "# Adicionamos os dados extraídos da imagem neste Dataframe, respeitando as colunas\n",
    "# Usamos aqui a função zip, pra juntar as colunas, mantendo a relação de linhas (L1_COL1,L1_COL2,L1_COl3...L1_COLN)\n",
    "# Existem outras maneiras de atingir o mesmo resultado\n",
    "df = pd.DataFrame(columns=['latitude','longitude', 'ndvi'],data=list(zip(latitudes,longitudes,indices[0])))\n",
    "print(df.head())"
   ]
  },
  {
   "cell_type": "markdown",
   "metadata": {},
   "source": [
    "### Atenção: a coluna ndvi apresenta valores dummies para as áreas fora da água por conta da utilização do valor dummy '99999' nos pixels que ocorrem fora do corpo d'água. Isto é feito no momento da extração da máscara. Podemos modificar esse valor para qualquer outro, desde que não colida com outros valores presentes nos dados observados."
   ]
  }
 ],
 "metadata": {
  "kernelspec": {
   "display_name": "Python 3",
   "language": "python",
   "name": "python3"
  },
  "language_info": {
   "codemirror_mode": {
    "name": "ipython",
    "version": 3
   },
   "file_extension": ".py",
   "mimetype": "text/x-python",
   "name": "python",
   "nbconvert_exporter": "python",
   "pygments_lexer": "ipython3",
   "version": "3.7.6"
  }
 },
 "nbformat": 4,
 "nbformat_minor": 4
}
