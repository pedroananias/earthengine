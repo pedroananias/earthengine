{
 "cells": [
  {
   "cell_type": "markdown",
   "metadata": {},
   "source": [
    "# Indices espectrais: aplicando o NDVI em uma imagem\n",
    "\n",
    "Neste notebook, iremos abordar a aplicação de indices espectrais em uma imagem extraída do GEE. Conforme destacado no notebook anterior, faremos uma consulta a uma imagem do Reservatório Hidrelético de Barra Bonita - SP e iremos apresentar um link de download dessa imagem processada com o indice NDVI.\n",
    "\n",
    "Primeiramente, vamos importar a biblioteca e inicializá-la do GEE:"
   ]
  },
  {
   "cell_type": "code",
   "execution_count": 46,
   "metadata": {},
   "outputs": [],
   "source": [
    "import ee # importação\n",
    "ee.Initialize() # inicialização"
   ]
  },
  {
   "cell_type": "markdown",
   "metadata": {},
   "source": [
    "Agora, vamos definir a geometria e as datas (baseada na Latitude e Longitude) da nossa área de estudo e consultá-la no GEE:"
   ]
  },
  {
   "cell_type": "code",
   "execution_count": 47,
   "metadata": {},
   "outputs": [
    {
     "name": "stdout",
     "output_type": "stream",
     "text": [
      "Total de imagens encontradas: 1\n"
     ]
    }
   ],
   "source": [
    "# Notem que foi criada uma coordenada (Latitude e Longitude) através de uma string, posteriormente repartida pelas virgulas\n",
    "# Essa abordagem é importante para quando utilizarmos a linha da comando\n",
    "coordenadas = \"-48.53801472648439,-22.503806214013736,-48.270222978437516,-22.7281869567509\"\n",
    "\n",
    "# Aqui, usamos uma ferramenta do Python chamada de unpacking\n",
    "x1,y1,x2,y2 = coordenadas.split(\",\")\n",
    "\n",
    "# Criamos a geometria com base nas coordenadas 'quebradas' acima\n",
    "geometria = geometry = ee.Geometry.Polygon(\n",
    "        [[[float(x1),float(y2)],\n",
    "          [float(x2),float(y2)],\n",
    "          [float(x2),float(y1)],\n",
    "          [float(x1),float(y1)],\n",
    "          [float(x1),float(y2)]]])\n",
    "\n",
    "# String de datas\n",
    "datas = \"2014-10-13,2014-10-14\"\n",
    "\n",
    "# Divisão das duas datas pela vírgula, novamente usando a técnica de unpacking\n",
    "inicio,fim = datas.split(\",\")\n",
    "\n",
    "# Consultando a coleção com base na área de estudo e datas selecionadas\n",
    "colecao = ee.ImageCollection('LANDSAT/LC08/C01/T1_SR').filterBounds(geometria).filterDate(inicio,fim).filterMetadata('CLOUD_COVER','less_than', 30)\n",
    "\n",
    "# Mostrar o total de imagens encontradas\n",
    "print(\"Total de imagens encontradas: \"+str(colecao.size().getInfo()))"
   ]
  },
  {
   "cell_type": "markdown",
   "metadata": {},
   "source": [
    "Criamos então uma função chamada 'ndvi' que será aplicada à coleção:"
   ]
  },
  {
   "cell_type": "code",
   "execution_count": 48,
   "metadata": {},
   "outputs": [],
   "source": [
    "# Definimos aqui as bandas que serão utilizadas (colocamos em uma variável para facilitar o entendimento)\n",
    "# As bandas e suas nomenclaturas devem ser consultadas no manual do sensor na documentaçõa do GEE\n",
    "red = 'B4'\n",
    "nir = 'B5'\n",
    "\n",
    "# Função para aplicar à imagem vinda da coleção a equação do NDVI\n",
    "# O GEE apresenta essa função denominada .expression que permite que se faça operações aritiméticas com as bandas\n",
    "# O retorna será a própria imagem acrescida da banda 'ndvi', permitindo que façamos uso dela posteriormente\n",
    "def ndvi(imagem):\n",
    "    ndvi = imagem.expression('(nir - red) / (nir + red)',{'nir':imagem.select(nir),'red':imagem.select(red)}).rename('ndvi')\n",
    "    return imagem.addBands(ndvi)"
   ]
  },
  {
   "cell_type": "markdown",
   "metadata": {},
   "source": [
    "Neste momento, estamos prontos para aplicar a função 'ndvi' para todas as imagens encontradas na coleção utilizando a função 'map' do GEE:"
   ]
  },
  {
   "cell_type": "code",
   "execution_count": 49,
   "metadata": {},
   "outputs": [],
   "source": [
    "# aplicar a função 'ndvi' em todas as imagens (irá adicionar uma nova banda em cada uma delas):\n",
    "colecao = colecao.map(ndvi)"
   ]
  },
  {
   "cell_type": "markdown",
   "metadata": {},
   "source": [
    "Como estamos trabalhando com uma coleção, podemos ter mais de uma imagem. \n",
    "\n",
    "Neste caso, devemos aplicar uma medida de centralidade para transformá-la em uma unica imagem. Em nosso caso, optamos por realizar um filtro de dados que nos fornecesse exatamente 1 imagem. Então, o resultado com a mediana, por exemplo, será de apenas uma imagem:"
   ]
  },
  {
   "cell_type": "code",
   "execution_count": 50,
   "metadata": {},
   "outputs": [
    {
     "name": "stdout",
     "output_type": "stream",
     "text": [
      "['B1', 'B2', 'B3', 'B4', 'B5', 'B6', 'B7', 'B10', 'B11', 'sr_aerosol', 'pixel_qa', 'radsat_qa', 'ndvi']\n"
     ]
    }
   ],
   "source": [
    "# extraindo a iamgem mediana da coleção\n",
    "imagem = colecao.median()\n",
    "\n",
    "# Podemos listar as bandas disponíveis na imagem, verificando, inclusive, a banda 'ndvi' recém adicionada.\n",
    "print(imagem.bandNames().getInfo())"
   ]
  },
  {
   "cell_type": "markdown",
   "metadata": {},
   "source": [
    "Devemos aplicar ainda a geometria da area de estudo, cortando a imagem na área desejada:"
   ]
  },
  {
   "cell_type": "code",
   "execution_count": 51,
   "metadata": {},
   "outputs": [],
   "source": [
    "# Cortando a imagem\n",
    "# scale = escala do sensor. No caso do Landsat-8/OLI são 30 metros\n",
    "imagem_corte = imagem.clipToBoundsAndScale(geometry=geometria,scale=30)"
   ]
  },
  {
   "cell_type": "markdown",
   "metadata": {},
   "source": [
    "Podemos, então, visualizar a imagem já com o NDVI aplicado utilizando uma função do GEE que nos fornece o link de download da imagem:"
   ]
  },
  {
   "cell_type": "code",
   "execution_count": 52,
   "metadata": {},
   "outputs": [
    {
     "name": "stdout",
     "output_type": "stream",
     "text": [
      "https://earthengine.googleapis.com/v1alpha/projects/earthengine-legacy/thumbnails/727da3d7e268f81a6e1a50ceee61ee7e-79c3299b7ac081bb37a1aac29ec630ba:getPixels\n",
      "\n",
      "https://earthengine.googleapis.com/v1alpha/projects/earthengine-legacy/thumbnails/71f70f96e9c8e45f80a7eb060b88e6a2-de2c290f9398996a55cd45f09aa4bfc9:getPixels\n"
     ]
    }
   ],
   "source": [
    "# pegar o link de download da imagem somente na banda 'ndvi'\n",
    "# Irá trazer as imagens em GeoTIFF por banda\n",
    "print(imagem_corte.select(['ndvi']).getDownloadUrl())\n",
    "\n",
    "# pegar a imagem de exemplo somente na banda 'ndvi'\n",
    "# Irá trazer uma imagem em PNG\n",
    "print()\n",
    "print(imagem_corte.select(['ndvi']).getThumbUrl({'min':-1, 'max':1}))"
   ]
  },
  {
   "cell_type": "markdown",
   "metadata": {},
   "source": [
    "Para visualizar a imagem em RBG, podemos proceder da mesma forma:"
   ]
  },
  {
   "cell_type": "code",
   "execution_count": 53,
   "metadata": {},
   "outputs": [
    {
     "name": "stdout",
     "output_type": "stream",
     "text": [
      "https://earthengine.googleapis.com/v1alpha/projects/earthengine-legacy/thumbnails/fe9deb16255b3520814968c4e9060d98-c6445ca487623a93c539fa52a1649334:getPixels\n",
      "\n",
      "https://earthengine.googleapis.com/v1alpha/projects/earthengine-legacy/thumbnails/e516f299e825c4ad8ef6ef79d820de42-2a1f0037e03668a274c949da901b9c88:getPixels\n"
     ]
    }
   ],
   "source": [
    "# pegar o link de download da imagem em RGB\n",
    "# Irá trazer as imagens em GeoTIFF por banda\n",
    "print(imagem_corte.select(['B4','B3','B2']).getDownloadUrl())\n",
    "\n",
    "# pegar a imagem de exemplo somente em RGB\n",
    "# Irá trazer uma imagem em PNG\n",
    "print()\n",
    "print(imagem_corte.select(['B4','B3','B2']).getThumbUrl({'min':0, 'max':3000}))"
   ]
  },
  {
   "cell_type": "code",
   "execution_count": null,
   "metadata": {},
   "outputs": [],
   "source": []
  }
 ],
 "metadata": {
  "kernelspec": {
   "display_name": "Python 3",
   "language": "python",
   "name": "python3"
  },
  "language_info": {
   "codemirror_mode": {
    "name": "ipython",
    "version": 3
   },
   "file_extension": ".py",
   "mimetype": "text/x-python",
   "name": "python",
   "nbconvert_exporter": "python",
   "pygments_lexer": "ipython3",
   "version": "3.7.6"
  }
 },
 "nbformat": 4,
 "nbformat_minor": 4
}
