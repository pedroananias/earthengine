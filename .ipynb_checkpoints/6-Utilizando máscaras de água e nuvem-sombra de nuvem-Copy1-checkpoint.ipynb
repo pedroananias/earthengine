{
 "cells": [
  {
   "cell_type": "markdown",
   "metadata": {},
   "source": [
    "# Utilizando máscaras de água e nuvem/sombra de nuvem\n",
    "\n",
    "Neste notebook, iremos abordar a aplicação de máscaras de água e nuvem/sombra de nuvem em uma imagem extraída do GEE. Conforme destacado no notebook anterior, faremos uma consulta a uma imagem do Reservatório Hidrelético de Barra Bonita - SP e iremos apresentar um link de download dessa imagem processada com as respectivas máscaras.\n",
    "\n",
    "Primeiramente, vamos importar a biblioteca e inicializá-la do GEE:"
   ]
  },
  {
   "cell_type": "code",
   "execution_count": 47,
   "metadata": {},
   "outputs": [],
   "source": [
    "import ee # importação\n",
    "ee.Initialize() # inicialização"
   ]
  },
  {
   "cell_type": "markdown",
   "metadata": {},
   "source": [
    "Agora, vamos definir a geometria e as datas (baseada na Latitude e Longitude) da nossa área de estudo e consultá-la no GEE:"
   ]
  },
  {
   "cell_type": "code",
   "execution_count": 48,
   "metadata": {},
   "outputs": [
    {
     "name": "stdout",
     "output_type": "stream",
     "text": [
      "Total de imagens encontradas: 1\n"
     ]
    }
   ],
   "source": [
    "# Notem que foi criada uma coordenada (Latitude e Longitude) através de uma string, posteriormente repartida pelas virgulas\n",
    "# Essa abordagem é importante para quando utilizarmos a linha da comando\n",
    "coordenadas = \"-48.53801472648439,-22.503806214013736,-48.270222978437516,-22.7281869567509\"\n",
    "\n",
    "# Aqui, usamos uma ferramenta do Python chamada de unpacking\n",
    "x1,y1,x2,y2 = coordenadas.split(\",\")\n",
    "\n",
    "# Criamos a geometria com base nas coordenadas 'quebradas' acima\n",
    "geometria = geometry = ee.Geometry.Polygon(\n",
    "        [[[float(x1),float(y2)],\n",
    "          [float(x2),float(y2)],\n",
    "          [float(x2),float(y1)],\n",
    "          [float(x1),float(y1)],\n",
    "          [float(x1),float(y2)]]])\n",
    "\n",
    "# String de datas\n",
    "datas = \"2014-10-13,2014-10-14\"\n",
    "\n",
    "# Divisão das duas datas pela vírgula, novamente usando a técnica de unpacking\n",
    "inicio,fim = datas.split(\",\")\n",
    "\n",
    "# Consultando a coleção com base na área de estudo e datas selecionadas\n",
    "colecao = ee.ImageCollection('LANDSAT/LC08/C01/T1_SR').filterBounds(geometria).filterDate(inicio,fim).filterMetadata('CLOUD_COVER','less_than', 30)\n",
    "\n",
    "# Mostrar o total de imagens encontradas\n",
    "print(\"Total de imagens encontradas: \"+str(colecao.size().getInfo()))"
   ]
  },
  {
   "cell_type": "markdown",
   "metadata": {},
   "source": [
    "Criamos então duas funções 'mascara_agua' e 'mascara_nuvem'.\n",
    "\n",
    "Notem que utilizamos a banda chamada 'pixel_qa':\n",
    "\n",
    "\"Quality Assessment (QA) bands are helpful for evaluating the overall usefulness of a Landsat pixel. Each pixel in the QA band contains an integer value that represents bit packed combinations of surface, atmospheric, and sensor conditions that can affect the individual pixel quality.\"\n",
    "\n",
    "Consultar o manual do sensor para saber os bits que devem ser utilizados para criação de máscara (https://www.usgs.gov/land-resources/nli/landsat/landsat-collection-1-level-1-quality-assessment-band?qt-science_support_page_related_con=0#qt-science_support_page_related_con). \n",
    "\n",
    "Desta forma, através de operações 'bitwise', mascaramos os pixeis que desejamos:"
   ]
  },
  {
   "cell_type": "code",
   "execution_count": 49,
   "metadata": {},
   "outputs": [],
   "source": [
    "# Função para aplicar à imagem vinda da coleção a máscara de água\n",
    "def mascara_agua(imagem):\n",
    "    qa = imagem.select('pixel_qa')\n",
    "    return qa.bitwiseAnd(1 << 2).eq(0)\n",
    "\n",
    "# Função para aplicar à imagem vinda da coléção a máscara de nuvem/sombra de nuvem\n",
    "def mascara_nuvem(imagem):\n",
    "    qa = imagem.select('pixel_qa')\n",
    "    return qa.bitwiseAnd(1 << 3).eq(0) and (qa.bitwiseAnd(1 << 5).eq(0)) and (qa.bitwiseAnd(1 << 6).eq(0)) and (qa.bitwiseAnd(1 << 7).eq(0))"
   ]
  },
  {
   "cell_type": "markdown",
   "metadata": {},
   "source": [
    "Neste momento, estamos prontos para aplicar as funções 'mascara_agua' e 'mascara_nuvem'. Criamos uma terceira função chamada 'aplicar_mascaras'. Ela será responsável por adicionar 4 novas bandas na imagem (ndvi, agua, nuvem, sem_nuvem). Assim, teremos as informações das máscaras separadas. Garantimos, como será mostrado mais a frente, que podemos aplicar as máscaras de água e nuvem em qualquer uma das bandas ou indices criados."
   ]
  },
  {
   "cell_type": "code",
   "execution_count": 50,
   "metadata": {},
   "outputs": [],
   "source": [
    "# função para aplicar as máscaras\n",
    "def aplicar_mascaras(imagem):\n",
    "    \n",
    "    # criar uma imagem em branco/vazio para evitar problemas no fundo ao gerar um PNG\n",
    "    # usamos valores dummies (neste caso, branco)\n",
    "    vazio = ee.Image(99999)\n",
    "    \n",
    "    # máscara de água\n",
    "    agua = vazio.updateMask(mascara_agua(imagem).Not()).rename('agua')\n",
    "    \n",
    "    # máscara de nuvem (criará uma imagem com apenas nuvens)\n",
    "    # caso a imagem não tenha nuvens, ela ficará toda branca\n",
    "    nuvem = vazio.updateMask(mascara_nuvem(imagem).Not()).rename('nuvem')\n",
    "    \n",
    "    # podemos ainda, ao contrário da linha anterior, REMOVER as nuvens\n",
    "    # notem que retiramos a função .Not (negação)\n",
    "    sem_nuvem = vazio.updateMask(mascara_nuvem(imagem)).rename('sem_nuvem')\n",
    "    \n",
    "    # aplicar o indice NDVI\n",
    "    ndvi = imagem.expression('(nir - red) / (nir + red)',{'nir':imagem.select('B5'),'red':imagem.select('B4')}).rename('ndvi')\n",
    "    \n",
    "    # assim como fizemos para o NDVI, retornamos uma imagem com as novas bandas\n",
    "    return imagem.addBands([ndvi,agua,nuvem,sem_nuvem])"
   ]
  },
  {
   "cell_type": "markdown",
   "metadata": {},
   "source": [
    "Conforme mencionamos acima, iremos utilizar uma quarta função que permitirá que a gente aplique as máscaras de água e nuvem em qualquer banda ou indice criado. Existem outras formas de aplicar as máscaras acima (diretamente na banda e etc). Mas, está é a que recomendamos para facilitar processamentos futuros:"
   ]
  },
  {
   "cell_type": "code",
   "execution_count": 51,
   "metadata": {},
   "outputs": [],
   "source": [
    "# função para aplicar uma máscara em uma banda específica\n",
    "# A mascará a ser aplicada \n",
    "def aplicar_mascara_banda(imagem, banda_mascara, banda_origem, band_destino):\n",
    "    \n",
    "    # Primeiramente, temos que aplicar a máscara desejada na banda de origem, que será nomeada para a banda de destino\n",
    "    # Podemos, inclusive, sobscrever a banda de origem, sem problemas\n",
    "    imagem_mascara = imagem.select(banda_origem).updateMask(imagem.select(banda_mascara)).rename(band_destino)\n",
    "    \n",
    "    # Depois, temos que criar uma imagem em branco que receberá a máscara, renomeando também para banda de destino\n",
    "    imagem_mascara = ee.Image(99999).blend(imagem_mascara).rename(band_destino)\n",
    "    \n",
    "    # Retornar a imagem com a nova banda nomeada com a string da banda_destino\n",
    "    return imagem.addBands([imagem_mascara])"
   ]
  },
  {
   "cell_type": "markdown",
   "metadata": {},
   "source": [
    "Neste momento, estamos prontos para aplicar as máscaras inicias (função 'aplicar_mascaras') na coleção:"
   ]
  },
  {
   "cell_type": "code",
   "execution_count": 52,
   "metadata": {},
   "outputs": [
    {
     "name": "stdout",
     "output_type": "stream",
     "text": [
      "['B1', 'B2', 'B3', 'B4', 'B5', 'B6', 'B7', 'B10', 'B11', 'sr_aerosol', 'pixel_qa', 'radsat_qa', 'ndvi', 'agua', 'nuvem', 'sem_nuvem']\n"
     ]
    }
   ],
   "source": [
    "# aplicar a função 'aplicar_mascaras' em todas as imagens (irá adicionar as bandas 'agua', 'nuvem', 'sem_nuvem' nas imagens):\n",
    "colecao = colecao.map(aplicar_mascaras)\n",
    "\n",
    "# extraindo a imagem mediana da coleção\n",
    "imagem = colecao.median()\n",
    "\n",
    "# Mostrando as novas bandas criadas abaixo:\n",
    "print(imagem.bandNames().getInfo())"
   ]
  },
  {
   "cell_type": "markdown",
   "metadata": {},
   "source": [
    "Agora, vamos aplicar as máscaras individualmente na banda NDVI:"
   ]
  },
  {
   "cell_type": "code",
   "execution_count": 53,
   "metadata": {},
   "outputs": [],
   "source": [
    "# Aplicamos as três máscaras individualmente na banda NDVI\n",
    "# A função irá adicionar as já mencionadas bandas de origem a medida que for sendo executada, linha a linha\n",
    "imagem = aplicar_mascara_banda(imagem, 'agua', 'ndvi', 'ndvi_agua')\n",
    "imagem = aplicar_mascara_banda(imagem, 'nuvem', 'ndvi', 'ndvi_nuvem')\n",
    "imagem = aplicar_mascara_banda(imagem, 'sem_nuvem', 'ndvi', 'ndvi_sem_nuvem')\n",
    "imagem = aplicar_mascara_banda(imagem, 'agua', 'ndvi_sem_nuvem', 'ndvi_agua_sem_nuvem')\n",
    "\n",
    "# Depois, cortamos a imagem\n",
    "# scale = escala do sensor. No caso do Landsat-8/OLI são 30 metros\n",
    "imagem_corte = imagem.clipToBoundsAndScale(geometry=geometria,scale=30)"
   ]
  },
  {
   "cell_type": "markdown",
   "metadata": {},
   "source": [
    "Podemos, então, visualizar a imagem já com as máscaras aplicas, conforme abaixo:"
   ]
  },
  {
   "cell_type": "code",
   "execution_count": 54,
   "metadata": {},
   "outputs": [
    {
     "name": "stdout",
     "output_type": "stream",
     "text": [
      "https://earthengine.googleapis.com/v1alpha/projects/earthengine-legacy/thumbnails/ac8b0f91a558c7364b59ec2decefe8da-3c4a7281283e195efe0cb6188a7a29f6:getPixels\n",
      "\n",
      "https://earthengine.googleapis.com/v1alpha/projects/earthengine-legacy/thumbnails/3354cc1b2fa8566ef1099456b1e857b7-456a3806618d3eb9964fa97f091800b2:getPixels\n",
      "\n",
      "https://earthengine.googleapis.com/v1alpha/projects/earthengine-legacy/thumbnails/4af1f6c509b0ffe7b90ac1c0da48b657-c9365320384f7dabe171a9fc4514e15d:getPixels\n",
      "\n",
      "https://earthengine.googleapis.com/v1alpha/projects/earthengine-legacy/thumbnails/ed8a7717af49068b9be173f05b9de2ae-c7677f29d966fc348bd26a6fbf0898f1:getPixels\n",
      "\n",
      "https://earthengine.googleapis.com/v1alpha/projects/earthengine-legacy/thumbnails/d2142e51791031366b63f4577973602e-e1f79a55791ad915bbe03975d6311f32:getPixels\n",
      "\n",
      "https://earthengine.googleapis.com/v1alpha/projects/earthengine-legacy/thumbnails/9c4bfaa03e37251dca465d00ee763377-b95d73e2928ab99a79314af5509b6c4b:getPixels\n"
     ]
    }
   ],
   "source": [
    "# Link da imagem de exemplo da máscara de água\n",
    "print(imagem_corte.select(['agua']).getThumbUrl({'min':-1, 'max':1}))\n",
    "\n",
    "# Link da imagem de exemplo da máscara de nuvem\n",
    "print()\n",
    "print(imagem_corte.select(['nuvem']).getThumbUrl({'min':-1, 'max':1}))\n",
    "\n",
    "# Link da imagem de exemplo do NDVI - Somente água\n",
    "print()\n",
    "print(imagem_corte.select(['ndvi_agua']).getThumbUrl({'min':-1, 'max':1}))\n",
    "\n",
    "# Link da imagem de exemplo do NDVI - Somente nuvem\n",
    "print()\n",
    "print(imagem_corte.select(['ndvi_nuvem']).getThumbUrl({'min':-1, 'max':1}))\n",
    "\n",
    "# Link da imagem de exemplo do NDVI - Sem nuvens\n",
    "print()\n",
    "print(imagem_corte.select(['ndvi_sem_nuvem']).getThumbUrl({'min':-1, 'max':1}))\n",
    "\n",
    "# Link da imagem de exemplo do NDVI - Somente água, Sem nuvens\n",
    "print()\n",
    "print(imagem_corte.select(['ndvi_agua_sem_nuvem']).getThumbUrl({'min':-1, 'max':1}))"
   ]
  },
  {
   "cell_type": "code",
   "execution_count": null,
   "metadata": {},
   "outputs": [],
   "source": []
  }
 ],
 "metadata": {
  "kernelspec": {
   "display_name": "Python 3",
   "language": "python",
   "name": "python3"
  },
  "language_info": {
   "codemirror_mode": {
    "name": "ipython",
    "version": 3
   },
   "file_extension": ".py",
   "mimetype": "text/x-python",
   "name": "python",
   "nbconvert_exporter": "python",
   "pygments_lexer": "ipython3",
   "version": "3.7.6"
  }
 },
 "nbformat": 4,
 "nbformat_minor": 4
}
