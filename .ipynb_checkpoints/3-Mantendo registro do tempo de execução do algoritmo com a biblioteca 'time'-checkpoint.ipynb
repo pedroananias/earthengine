{
 "cells": [
  {
   "cell_type": "markdown",
   "metadata": {},
   "source": [
    "# Mantendo registro do tempo de execução do algoritmo com a biblioteca 'time'\n",
    "\n",
    "Neste notebook, trazemos outra ferramenta muito importante no desenvolvimento de algoritmos. Trata-se da biblioteca time.\n",
    "Embora esta sirva para outros propósitos, iremos apresentá-la como base para detectar o tempo de execução do nosso código. Esta etapa faz parte do processo de otimização, permitindo que tenhamos algoritmos cada vez mais rápidos e melhores.\n",
    "\n",
    "Primeiramente, devemos importá-la:"
   ]
  },
  {
   "cell_type": "code",
   "execution_count": 23,
   "metadata": {},
   "outputs": [],
   "source": [
    "import time"
   ]
  },
  {
   "cell_type": "markdown",
   "metadata": {},
   "source": [
    "Iniciamos o monitoramento do tempo de execução gravando o horário atual, em segundos:"
   ]
  },
  {
   "cell_type": "code",
   "execution_count": 24,
   "metadata": {},
   "outputs": [],
   "source": [
    "inicio = time.time()"
   ]
  },
  {
   "cell_type": "markdown",
   "metadata": {},
   "source": [
    "Então, executaremos nosso código:"
   ]
  },
  {
   "cell_type": "code",
   "execution_count": 25,
   "metadata": {},
   "outputs": [
    {
     "name": "stdout",
     "output_type": "stream",
     "text": [
      "500000500000\n"
     ]
    }
   ],
   "source": [
    "soma = 0\n",
    "i = 0\n",
    "while i <= 1000000:\n",
    "    soma += i\n",
    "    i += 1\n",
    "print(soma)"
   ]
  },
  {
   "cell_type": "markdown",
   "metadata": {},
   "source": [
    "Gravamos agora o horário atual e fazemos a subtração do horário de início:"
   ]
  },
  {
   "cell_type": "code",
   "execution_count": 26,
   "metadata": {},
   "outputs": [],
   "source": [
    "tempo_execucao = time.time() - inicio"
   ]
  },
  {
   "cell_type": "markdown",
   "metadata": {},
   "source": [
    "### Quantos segundos nosso algoritmo levou para executar?"
   ]
  },
  {
   "cell_type": "code",
   "execution_count": 27,
   "metadata": {},
   "outputs": [
    {
     "name": "stdout",
     "output_type": "stream",
     "text": [
      "0.1795201301574707\n"
     ]
    }
   ],
   "source": [
    "print(tempo_execucao)"
   ]
  }
 ],
 "metadata": {
  "kernelspec": {
   "display_name": "Python 3",
   "language": "python",
   "name": "python3"
  },
  "language_info": {
   "codemirror_mode": {
    "name": "ipython",
    "version": 3
   },
   "file_extension": ".py",
   "mimetype": "text/x-python",
   "name": "python",
   "nbconvert_exporter": "python",
   "pygments_lexer": "ipython3",
   "version": "3.7.6"
  }
 },
 "nbformat": 4,
 "nbformat_minor": 4
}
