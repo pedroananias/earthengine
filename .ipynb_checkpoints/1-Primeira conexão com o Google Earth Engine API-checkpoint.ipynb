{
 "cells": [
  {
   "cell_type": "markdown",
   "metadata": {},
   "source": [
    "# Primeira conexão com o Google Earth Engine (GEE) API\n",
    "\n",
    "Neste notebook, iniciaremos com a importação da biblioteca do Google Earth Engine API, faremos sua importação de iniciaremos com a nossa primeira conexão com o GEE"
   ]
  },
  {
   "cell_type": "markdown",
   "metadata": {},
   "source": [
    "Abaixo, fazemos a importação do Google Earth Engine API, aqui também chamado de GEE"
   ]
  },
  {
   "cell_type": "code",
   "execution_count": 2,
   "metadata": {},
   "outputs": [],
   "source": [
    "import ee"
   ]
  },
  {
   "cell_type": "markdown",
   "metadata": {},
   "source": [
    "É necessário se conectar à biblioteca do GEE executando o código abaixo na linha de comando do Anaconda > CMD.exe Prompt. Em sua execução, será solicitado que você abra no navegador a página de geração do token de acesso e copie-o na caixa de texto apresentada. É necessário possuir uma conta @unesp.br ou @gmail.com. Assim, você estará validando o seu acesso junto à Google, que permitirá o 'consumo' da referida API. É importante lembrar que o token gerado possui validade. Portanto, em algum momento será necessário revalidá-lo.\n",
    "\n",
    "Portanto, digite o seguinte comando no prompt do Anaconda, conforme imagem 'images/1-earthengine_token.png':\n",
    "\n",
    "`earthengine authenticate`"
   ]
  },
  {
   "cell_type": "markdown",
   "metadata": {},
   "source": [
    "Para inicializar o uso da biblioteca, após sua conexão, utilize o seguinte comando:"
   ]
  },
  {
   "cell_type": "code",
   "execution_count": 3,
   "metadata": {},
   "outputs": [],
   "source": [
    "ee.Initialize()"
   ]
  }
 ],
 "metadata": {
  "kernelspec": {
   "display_name": "Python 3",
   "language": "python",
   "name": "python3"
  },
  "language_info": {
   "codemirror_mode": {
    "name": "ipython",
    "version": 3
   },
   "file_extension": ".py",
   "mimetype": "text/x-python",
   "name": "python",
   "nbconvert_exporter": "python",
   "pygments_lexer": "ipython3",
   "version": "3.7.6"
  }
 },
 "nbformat": 4,
 "nbformat_minor": 4
}
