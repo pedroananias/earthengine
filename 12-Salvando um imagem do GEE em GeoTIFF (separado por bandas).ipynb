{
 "cells": [
  {
   "cell_type": "markdown",
   "metadata": {},
   "source": [
    "# Salvando um imagem do GEE em GeoTIFF (separado por bandas)\n",
    "\n",
    "Neste notebook, com os dados do notebook sobre a aplicação de indices espectrais em uma imagem extraída do GEE, iremos salvá-la em GeoTIFF usando link de download fornecido pela plataforma.\n",
    "\n",
    "Primeiramente, vamos importar a biblioteca e inicializá-la do GEE:"
   ]
  },
  {
   "cell_type": "code",
   "execution_count": 1,
   "metadata": {},
   "outputs": [],
   "source": [
    "import ee # importação\n",
    "import requests\n",
    "ee.Initialize() # inicialização"
   ]
  },
  {
   "cell_type": "markdown",
   "metadata": {},
   "source": [
    "Agora, vamos definir a geometria e as datas (baseada na Latitude e Longitude) da nossa área de estudo e consultá-la no GEE:"
   ]
  },
  {
   "cell_type": "code",
   "execution_count": 2,
   "metadata": {},
   "outputs": [
    {
     "name": "stdout",
     "output_type": "stream",
     "text": [
      "Total de imagens encontradas: 1\n"
     ]
    }
   ],
   "source": [
    "# Notem que foi criada uma coordenada (Latitude e Longitude) através de uma string, posteriormente repartida pelas virgulas\n",
    "# Essa abordagem é importante para quando utilizarmos a linha da comando\n",
    "coordenadas = \"-48.53801472648439,-22.503806214013736,-48.270222978437516,-22.7281869567509\"\n",
    "\n",
    "# Aqui, usamos uma ferramenta do Python chamada de unpacking\n",
    "x1,y1,x2,y2 = coordenadas.split(\",\")\n",
    "\n",
    "# Criamos a geometria com base nas coordenadas 'quebradas' acima\n",
    "geometria = geometry = ee.Geometry.Polygon(\n",
    "        [[[float(x1),float(y2)],\n",
    "          [float(x2),float(y2)],\n",
    "          [float(x2),float(y1)],\n",
    "          [float(x1),float(y1)],\n",
    "          [float(x1),float(y2)]]])\n",
    "\n",
    "# String de datas\n",
    "datas = \"2014-10-13,2014-10-14\"\n",
    "\n",
    "# Divisão das duas datas pela vírgula, novamente usando a técnica de unpacking\n",
    "inicio,fim = datas.split(\",\")\n",
    "\n",
    "# Consultando a coleção com base na área de estudo e datas selecionadas\n",
    "colecao = ee.ImageCollection('LANDSAT/LC08/C01/T1_SR').filterBounds(geometria).filterDate(inicio,fim).filterMetadata('CLOUD_COVER','less_than', 30)\n",
    "\n",
    "# Mostrar o total de imagens encontradas\n",
    "print(\"Total de imagens encontradas: \"+str(colecao.size().getInfo()))"
   ]
  },
  {
   "cell_type": "markdown",
   "metadata": {},
   "source": [
    "Criamos então uma função chamada 'ndvi' que será aplicada à coleção:"
   ]
  },
  {
   "cell_type": "code",
   "execution_count": 3,
   "metadata": {},
   "outputs": [],
   "source": [
    "# Definimos aqui as bandas que serão utilizadas (colocamos em uma variável para facilitar o entendimento)\n",
    "# As bandas e suas nomenclaturas devem ser consultadas no manual do sensor na documentaçõa do GEE\n",
    "red = 'B4'\n",
    "nir = 'B5'\n",
    "\n",
    "# Função para aplicar à imagem vinda da coleção a equação do NDVI\n",
    "# O GEE apresenta essa função denominada .expression que permite que se faça operações aritiméticas com as bandas\n",
    "# O retorna será a própria imagem acrescida da banda 'ndvi', permitindo que façamos uso dela posteriormente\n",
    "def ndvi(imagem):\n",
    "    ndvi = imagem.expression('(nir - red) / (nir + red)',{'nir':imagem.select(nir),'red':imagem.select(red)}).rename('ndvi')\n",
    "    return imagem.addBands(ndvi)"
   ]
  },
  {
   "cell_type": "code",
   "execution_count": 4,
   "metadata": {},
   "outputs": [
    {
     "name": "stdout",
     "output_type": "stream",
     "text": [
      "['B1', 'B2', 'B3', 'B4', 'B5', 'B6', 'B7', 'B10', 'B11', 'sr_aerosol', 'pixel_qa', 'radsat_qa', 'ndvi']\n"
     ]
    }
   ],
   "source": [
    "# aplicar a função 'ndvi' em todas as imagens (irá adicionar uma nova banda em cada uma delas):\n",
    "colecao = colecao.map(ndvi)\n",
    "\n",
    "# extraindo a iamgem mediana da coleção\n",
    "imagem = colecao.median()\n",
    "\n",
    "# Podemos listar as bandas disponíveis na imagem, verificando, inclusive, a banda 'ndvi' recém adicionada.\n",
    "print(imagem.bandNames().getInfo())\n",
    "\n",
    "# Cortando a imagem\n",
    "# scale = escala do sensor. No caso do Landsat-8/OLI são 30 metros\n",
    "imagem_corte = imagem.clipToBoundsAndScale(geometry=geometria,scale=30)"
   ]
  },
  {
   "cell_type": "markdown",
   "metadata": {},
   "source": [
    "Podemos então salvar a imagem cortada em um GeoTIFF usando a função de download do GEE:"
   ]
  },
  {
   "cell_type": "code",
   "execution_count": 7,
   "metadata": {},
   "outputs": [
    {
     "data": {
      "text/plain": [
       "6717837"
      ]
     },
     "execution_count": 7,
     "metadata": {},
     "output_type": "execute_result"
    }
   ],
   "source": [
    "# Salvar o zip do tiff rgb\n",
    "# Notem que no zip, você encontrará cada uma das bandas separadas por arquivo geotiff\n",
    "# O Google Earth Engine API adiciona um limite máximo para download (não pode ser todas as bandas). Portanto, selecione as bandas desejadas para não receber um erro\n",
    "open('tiffs/12-geotiff.zip', 'wb').write(requests.get(imagem_corte.select(['B4', 'B3', 'B2','ndvi']).getDownloadUrl(), allow_redirects=True).content)"
   ]
  },
  {
   "cell_type": "markdown",
   "metadata": {},
   "source": [
    "### Verifiquem a pasta 'tiffs' para o resultado!"
   ]
  }
 ],
 "metadata": {
  "kernelspec": {
   "display_name": "Python 3",
   "language": "python",
   "name": "python3"
  },
  "language_info": {
   "codemirror_mode": {
    "name": "ipython",
    "version": 3
   },
   "file_extension": ".py",
   "mimetype": "text/x-python",
   "name": "python",
   "nbconvert_exporter": "python",
   "pygments_lexer": "ipython3",
   "version": "3.7.6"
  }
 },
 "nbformat": 4,
 "nbformat_minor": 4
}
